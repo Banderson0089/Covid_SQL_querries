{
  "nbformat": 4,
  "nbformat_minor": 0,
  "metadata": {
    "colab": {
      "provenance": [],
      "authorship_tag": "ABX9TyONGWcWeb5lpgz208oB5x7S",
      "include_colab_link": true
    },
    "kernelspec": {
      "name": "python3",
      "display_name": "Python 3"
    },
    "language_info": {
      "name": "python"
    }
  },
  "cells": [
    {
      "cell_type": "markdown",
      "metadata": {
        "id": "view-in-github",
        "colab_type": "text"
      },
      "source": [
        "<a href=\"https://colab.research.google.com/github/Banderson0089/SQL-Portfolio/blob/main/StockScraper.ipynb\" target=\"_parent\"><img src=\"https://colab.research.google.com/assets/colab-badge.svg\" alt=\"Open In Colab\"/></a>"
      ]
    },
    {
      "cell_type": "code",
      "execution_count": 26,
      "metadata": {
        "colab": {
          "base_uri": "https://localhost:8080/"
        },
        "id": "7WaKvHITUhj-",
        "outputId": "896cd323-549e-4559-c8aa-24cd9511fc2e"
      },
      "outputs": [
        {
          "output_type": "stream",
          "name": "stdout",
          "text": [
            "Getting:  BKLC\n",
            "Getting:  SPY\n",
            "Getting:  VUG\n",
            "Getting:  VOOG\n",
            "Getting:  VTI\n",
            "Getting:  VTV\n",
            "Done\n"
          ]
        }
      ],
      "source": [
        "import requests\n",
        "from bs4 import BeautifulSoup\n",
        "import json\n",
        "\n",
        "mystocks = ['BKLC','SPY','VUG','VOOG','VTI','VTV']\n",
        "stockdata = []\n",
        "\n",
        "def getData (symbol):\n",
        "    headers = {'User-Agent': 'Mozilla/5.0 (Macintosh; Intel Mac OS X 10_15_7) AppleWebKit/537.36 (KHTML, like Gecko) Chrome/125.0.0.0 Safari/537.36'}\n",
        "    url = f'https://finance.yahoo.com/quote/{symbol}'\n",
        "    r = requests.get(url, headers=headers)\n",
        "    soup = BeautifulSoup(r.text, 'html.parser')\n",
        "    stock = {\n",
        "    'symbol': symbol,\n",
        "    'price' : soup.find('div', {'class': 'container yf-mgkamr'}).find_all ('fin-streamer')[0].text,\n",
        "    'change' : soup.find('div', {'class': 'container yf-mgkamr'}).find_all ('fin-streamer')[1].text,\n",
        "    }\n",
        "    return stock\n",
        "\n",
        "for item in mystocks:\n",
        "    stockdata.append(getData(item))\n",
        "    print('Getting: ', item)\n",
        "\n",
        "with open('stockdata.json', 'w') as f:\n",
        "    json.dump(stockdata, f)\n",
        "\n",
        "print('Done')"
      ]
    },
    {
      "cell_type": "code",
      "source": [
        "()"
      ],
      "metadata": {
        "id": "9vK8CR_4kwZ5"
      },
      "execution_count": null,
      "outputs": []
    }
  ]
}